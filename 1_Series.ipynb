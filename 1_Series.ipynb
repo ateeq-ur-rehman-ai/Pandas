{
 "cells": [
  {
   "cell_type": "markdown",
   "id": "bdbf3358-6e38-4f20-a4a6-5c871e5d6328",
   "metadata": {},
   "source": [
    "# Series"
   ]
  },
  {
   "cell_type": "markdown",
   "id": "21d26608-3102-4288-8f06-346fc2e2d1fc",
   "metadata": {},
   "source": [
    "# Series can be defined as a one dimensional array that capable of storing various datatype"
   ]
  },
  {
   "cell_type": "code",
   "execution_count": 5,
   "id": "3856435b-b26c-47c8-9e4a-5023490d573e",
   "metadata": {},
   "outputs": [
    {
     "name": "stdout",
     "output_type": "stream",
     "text": [
      "0     3\n",
      "1     2\n",
      "2    44\n",
      "3    63\n",
      "4    64\n",
      "5    62\n",
      "6     3\n",
      "dtype: int64\n",
      "<class 'pandas.core.series.Series'>\n"
     ]
    }
   ],
   "source": [
    "import pandas as pd\n",
    "x= [3,2,44,63,64,62,3]\n",
    "s=pd.Series(x)\n",
    "print(s)\n",
    "print(type(s))"
   ]
  },
  {
   "cell_type": "code",
   "execution_count": 6,
   "id": "e20bfee6-34b2-4b5a-873d-f6300cc2a92e",
   "metadata": {},
   "outputs": [
    {
     "name": "stdout",
     "output_type": "stream",
     "text": [
      "44\n"
     ]
    }
   ],
   "source": [
    "print(s[2])"
   ]
  },
  {
   "cell_type": "code",
   "execution_count": 9,
   "id": "8195a1bc-d7cc-4a12-8f61-2255a6703c86",
   "metadata": {},
   "outputs": [
    {
     "name": "stdout",
     "output_type": "stream",
     "text": [
      "1     3\n",
      "2     2\n",
      "3    44\n",
      "4    63\n",
      "dtype: int64\n",
      "<class 'pandas.core.series.Series'>\n"
     ]
    }
   ],
   "source": [
    "import pandas as pd\n",
    "y= [3,2,44,63]\n",
    "s=pd.Series(y,index=[1,2,3,4])\n",
    "print(s)\n",
    "print(type(s))"
   ]
  },
  {
   "cell_type": "code",
   "execution_count": 10,
   "id": "a5faa016-2c8d-4c29-bc2d-5c2dd0b7c226",
   "metadata": {},
   "outputs": [
    {
     "name": "stdout",
     "output_type": "stream",
     "text": [
      "1     3.0\n",
      "2     2.0\n",
      "3    44.0\n",
      "4    63.0\n",
      "dtype: float64\n",
      "<class 'pandas.core.series.Series'>\n"
     ]
    }
   ],
   "source": [
    "import pandas as pd\n",
    "z= [3,2,44,63]\n",
    "s=pd.Series(z,index=[1,2,3,4],dtype='float')\n",
    "print(s)\n",
    "print(type(s))"
   ]
  },
  {
   "cell_type": "code",
   "execution_count": 11,
   "id": "f5607f48-d7c3-4796-8713-4dbccc4455f1",
   "metadata": {},
   "outputs": [
    {
     "name": "stdout",
     "output_type": "stream",
     "text": [
      "1     3.0\n",
      "2     2.0\n",
      "3    44.0\n",
      "4    63.0\n",
      "Name: Python, dtype: float64\n",
      "<class 'pandas.core.series.Series'>\n"
     ]
    }
   ],
   "source": [
    "import pandas as pd\n",
    "a= [3,2,44,63]\n",
    "s=pd.Series(a,index=[1,2,3,4],dtype='float',name='Python')\n",
    "print(s)\n",
    "print(type(s))"
   ]
  },
  {
   "cell_type": "code",
   "execution_count": 12,
   "id": "0f7af53f-d7f6-477f-8330-a087b93e7250",
   "metadata": {},
   "outputs": [
    {
     "data": {
      "text/plain": [
       "Languages    [Python, C, Java, Html]\n",
       "Usage           [85%, 58%, 80%, 20%]\n",
       "Rank                    [1, 3, 2, 4]\n",
       "dtype: object"
      ]
     },
     "execution_count": 12,
     "metadata": {},
     "output_type": "execute_result"
    }
   ],
   "source": [
    "dic= {\"Languages\": ['Python','C',\"Java\",\"Html\"],\"Usage\":[\"85%\",\"58%\",\"80%\",\"20%\"],\"Rank\" :[1,3,2,4]}\n",
    "var1=pd.Series(dic)\n",
    "var1"
   ]
  },
  {
   "cell_type": "code",
   "execution_count": 14,
   "id": "22b31112-d96d-44c5-86aa-7cdbde033b90",
   "metadata": {},
   "outputs": [
    {
     "name": "stdout",
     "output_type": "stream",
     "text": [
      "1    25.0\n",
      "2    25.0\n",
      "3    25.0\n",
      "4     NaN\n",
      "5     NaN\n",
      "6     NaN\n",
      "dtype: float64\n"
     ]
    }
   ],
   "source": [
    "s1=pd.Series(15,index=[1,2,3,4,5,6])\n",
    "s2=pd.Series(10,index=[1,2,3])\n",
    "print(s1+s2)"
   ]
  },
  {
   "cell_type": "code",
   "execution_count": null,
   "id": "ca9224d0-5b25-4cf4-9715-ceb803a908a6",
   "metadata": {},
   "outputs": [],
   "source": []
  }
 ],
 "metadata": {
  "kernelspec": {
   "display_name": "Python 3 (ipykernel)",
   "language": "python",
   "name": "python3"
  },
  "language_info": {
   "codemirror_mode": {
    "name": "ipython",
    "version": 3
   },
   "file_extension": ".py",
   "mimetype": "text/x-python",
   "name": "python",
   "nbconvert_exporter": "python",
   "pygments_lexer": "ipython3",
   "version": "3.13.0"
  }
 },
 "nbformat": 4,
 "nbformat_minor": 5
}
